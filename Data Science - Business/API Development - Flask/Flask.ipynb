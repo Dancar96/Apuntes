{
 "cells": [
  {
   "attachments": {},
   "cell_type": "markdown",
   "metadata": {},
   "source": [
    "# Flask\n",
    "\n",
    "Flask es un framework web de Python que se utiliza para construir aplicaciones web. Fue creado en 2010 por Armin Ronacher y es conocido por su simplicidad y flexibilidad. Flask es ideal para proyectos pequeños y medianos y permite la creación rápida de aplicaciones web utilizando Python. Se utiliza en muchas aplicaciones web. Flask es un framework ligero y fácil de usar que permite a los desarrolladores crear aplicaciones web rápidamente y con facilidad."
   ]
  },
  {
   "attachments": {},
   "cell_type": "markdown",
   "metadata": {},
   "source": [
    "## Peticiones\n",
    "\n",
    "Primero tengamos en cuenta las peticiones (atributo 'methods=') que podemos hacer a la API:"
   ]
  },
  {
   "attachments": {},
   "cell_type": "markdown",
   "metadata": {},
   "source": [
    "<img src=\"./img/Peticiones.png\" alt=\"Peticiones\" width=\"1000\"/>"
   ]
  },
  {
   "attachments": {},
   "cell_type": "markdown",
   "metadata": {},
   "source": [
    "## Instalación de Flask\n",
    "\n",
    "Instalamos Flask utilizando pip.\n",
    "\n",
    "Para instalar Flask, abrimos una terminal o línea de comandos y escribimos lo siguiente:"
   ]
  },
  {
   "cell_type": "code",
   "execution_count": null,
   "metadata": {},
   "outputs": [],
   "source": [
    "%pip install flask"
   ]
  },
  {
   "attachments": {},
   "cell_type": "markdown",
   "metadata": {},
   "source": [
    "## Creación de una aplicación web básica con Flask\n",
    "\n",
    "Para crear una aplicación web básica con Flask, debemos crear un archivo Python y agregar el siguiente código:"
   ]
  },
  {
   "cell_type": "code",
   "execution_count": null,
   "metadata": {},
   "outputs": [],
   "source": [
    "from flask import Flask\n",
    "\n",
    "app = Flask(__name__) # Constructor que crea la aplicación Flask.\n",
    "\n",
    "@app.route(\"/\") # Aplicación web básica con una sola ruta (/) que devuelve \"Hello, World!\" como respuesta.\n",
    "def hello():\n",
    "    return \"Hello, World!\""
   ]
  },
  {
   "attachments": {},
   "cell_type": "markdown",
   "metadata": {},
   "source": [
    "Para ejecutar la aplicación, guardamos este código en un archivo llamado app.py y lo ejecutamos en la terminal o línea de comandos:"
   ]
  },
  {
   "cell_type": "code",
   "execution_count": null,
   "metadata": {},
   "outputs": [],
   "source": [
    "%python app.py # Esto iniciará la aplicación en el servidor local de Flask y podremos acceder a ella en http://localhost:5000/."
   ]
  },
  {
   "attachments": {},
   "cell_type": "markdown",
   "metadata": {},
   "source": [
    "<img src=\"./img/Flask-Hello_World.png\" alt=\"Hello World\" width=\"500\"/>"
   ]
  },
  {
   "attachments": {},
   "cell_type": "markdown",
   "metadata": {},
   "source": [
    "### ¿Por qué 'http://localhost:5000/'?\n",
    "\n",
    "'http://localhost:5000/' es la ruta básica.\n",
    "\n",
    "- 'http://' es el protocolo http de acceso al servidor.\n",
    "- 'localhost' es el servidor, que esta alocado de forma local en nuestra computadora.\n",
    "- '5000' es el número de puerto utilizado para la comunicación del servidor.\n",
    "\n",
    "También podemos verlo como 'http://127.0.0.1:500'. Esto es porque la dirección IP del localhost es 127.0.0.1.\n",
    "\n",
    "- El número '127' es la clase de dirección IP reservada para el localhost.\n",
    "- Los siguientes tres numeros 0.0.0 se refieren a la red en la que se encuentra el localhost.\n",
    "- El último 0 de esos tres se transforma en un '1' para referirse al host dentro de la red del localhost."
   ]
  },
  {
   "attachments": {},
   "cell_type": "markdown",
   "metadata": {},
   "source": [
    "## Crear y agregar rutas\n",
    "\n",
    "Para agregar más rutas a la aplicación web, simplemente agregamos más parámetros de ruta:"
   ]
  },
  {
   "cell_type": "code",
   "execution_count": null,
   "metadata": {},
   "outputs": [],
   "source": [
    "@app.route(\"/about\") # Creación de ruta (/about) que devuelve \"About page\" como respuesta.\n",
    "def about():\n",
    "    return \"About page\""
   ]
  },
  {
   "attachments": {},
   "cell_type": "markdown",
   "metadata": {},
   "source": [
    "Hemos agregado una ruta adicional a la aplicación que devuelve \"About page\" como respuesta. Ahora, si visitamos 'http://localhost:5000/about', veremos el mensaje \"About page\"."
   ]
  },
  {
   "attachments": {},
   "cell_type": "markdown",
   "metadata": {},
   "source": [
    "<img src=\"./img/Flask-About_Page.png\" alt=\"About Page\" width=\"500\"/>"
   ]
  },
  {
   "attachments": {},
   "cell_type": "markdown",
   "metadata": {},
   "source": [
    "## Utilizar plantillas\n",
    "\n",
    "Las plantillas nos permiten crear páginas web dinámicas utilizando Python. Para utilizar plantillas en tu aplicación Flask, debemos crear una carpeta llamada templates en el mismo directorio que el archivo app.py.\n",
    "\n",
    "Dentro de esta carpeta, creamos un archivo llamado index1.html con el siguiente contenido:"
   ]
  },
  {
   "cell_type": "code",
   "execution_count": null,
   "metadata": {
    "vscode": {
     "languageId": "html"
    }
   },
   "outputs": [],
   "source": [
    "<!DOCTYPE html>\n",
    "<html>\n",
    "<head>\n",
    "    <title>{{ title }}</title>\n",
    "</head>\n",
    "<body>\n",
    "    <h1>{{ heading }}</h1>\n",
    "    <p>{{ content }}</p>\n",
    "</body>\n",
    "<html>"
   ]
  },
  {
   "attachments": {},
   "cell_type": "markdown",
   "metadata": {},
   "source": [
    "<img src=\"./img/Plantilla_index1.png\" alt=\"index1\" width=\"500\"/>"
   ]
  },
  {
   "attachments": {},
   "cell_type": "markdown",
   "metadata": {},
   "source": [
    "Luego, modificamos el código del archivo app.py para incluir la plantilla:"
   ]
  },
  {
   "cell_type": "code",
   "execution_count": null,
   "metadata": {},
   "outputs": [],
   "source": [
    "from flask import Flask, render_template # Importamos Flask y render_template.\n",
    "\n",
    "app = Flask(__name__) # Construimos la app.\n",
    "\n",
    "@app.route(\"/\") # Creamos la ruta.\n",
    "def index(): # Creamos una función que contextualice las variables que hemos creado en la plantilla de HTML.\n",
    "    title = \"Inicio\"\n",
    "    heading = \"Bienvenido a mi aplicación web\"\n",
    "    content = \"Esta es mi primera aplicación web con Flask\"\n",
    "    return render_template(\"index1.html\", title=title, heading=heading, content=content)"
   ]
  },
  {
   "attachments": {},
   "cell_type": "markdown",
   "metadata": {},
   "source": [
    "<img src=\"./img/Usar_Planillas.png\" alt=\"Plantillas\" width=\"500\"/>"
   ]
  },
  {
   "attachments": {},
   "cell_type": "markdown",
   "metadata": {},
   "source": [
    "## Trabajar con formularios\n",
    "\n",
    "Para trabajar con formularios en Flask, necesitamos utilizar la clase request de Flask. La clase request nos permite obtener los datos enviados por el usuario a través del formulario.\n",
    "\n",
    "En el siguiente ejemplo, crearemos una página de formulario en la plantilla form.html y vamos a procesar los datos enviados por el usuario en la ruta /submit:"
   ]
  },
  {
   "attachments": {},
   "cell_type": "markdown",
   "metadata": {},
   "source": [
    "Creamos una plantilla form.html y la guardamos en la carpeta templates:"
   ]
  },
  {
   "cell_type": "code",
   "execution_count": null,
   "metadata": {
    "vscode": {
     "languageId": "html"
    }
   },
   "outputs": [],
   "source": [
    "<!DOCTYPE html>\n",
    "<html>\n",
    "  <head>\n",
    "    <meta charset=\"utf-8\">\n",
    "    <title>Formulario de contacto</title>\n",
    "  </head>\n",
    "  <body>\n",
    "    <h1>Formulario de contacto</h1>\n",
    "    <form method=\"POST\" action=\"{{ url_for('submit') }}\">\n",
    "      <label for=\"name\">Nombre:</label>\n",
    "      <input type=\"text\" name=\"name\" id=\"name\"><br><br>\n",
    "      <label for=\"email\">Email:</label>\n",
    "      <input type=\"email\" name=\"email\" id=\"email\"><br><br>\n",
    "      <input type=\"submit\" value=\"Enviar\">\n",
    "    </form>\n",
    "  </body>\n",
    "</html>"
   ]
  },
  {
   "attachments": {},
   "cell_type": "markdown",
   "metadata": {},
   "source": [
    "Procesamos los datos en nuestra app de Flask:"
   ]
  },
  {
   "cell_type": "code",
   "execution_count": null,
   "metadata": {},
   "outputs": [],
   "source": [
    "from flask import Flask, render_template, request # Importamos Flask, render_template y request.\n",
    "\n",
    "app = Flask(__name__) # Construimos la app.\n",
    "\n",
    "@app.route(\"/\") # Creamos la ruta.\n",
    "def index(): # Aqui se ejecutará la plantilla del formulario.\n",
    "    return render_template(\"form.html\")\n",
    "\n",
    "@app.route(\"/submit\", methods=[\"POST\"]) # En esta ruta, mediante la petición 'POST' procesaremos los datos que el usuario introdujo en el formulario.\n",
    "def submit(): # Mediante request obtenemos los resultados.\n",
    "    name = request.form.get(\"name\")\n",
    "    email = request.form.get(\"email\")\n",
    "    return f\"Nombre: {name}, Correo electrónico: {email}\""
   ]
  },
  {
   "attachments": {},
   "cell_type": "markdown",
   "metadata": {},
   "source": [
    "<img src=\"./img/Formulario.png\" alt=\"Formulario\" width=\"400\"/>\n",
    "\n",
    "<img src=\"./img/Formulario2.png\" alt=\"Formulario2\" width=\"500\"/>"
   ]
  },
  {
   "attachments": {},
   "cell_type": "markdown",
   "metadata": {},
   "source": [
    "## Almacenar datos en una base de datos SQLite\n",
    "\n",
    "Flask incluye una base de datos SQLite integrada que te permite almacenar datos en tu aplicación web. Para trabajar con SQLite en Flask, utilizamos la extensión flask_sqlalchemy.\n",
    "\n",
    "En el siguiente ejemplo, crearemos una base de datos SQLite utilizando flask_sqlalchemy y agregaremos una tabla llamada usuarios. Posteriormente agregaremos un nuevo usuario a la base de datos utilizando un formulario."
   ]
  },
  {
   "attachments": {},
   "cell_type": "markdown",
   "metadata": {},
   "source": [
    "Creamos una plantilla usuarios.html y la guardamos en la carpeta templates:"
   ]
  },
  {
   "cell_type": "code",
   "execution_count": null,
   "metadata": {
    "vscode": {
     "languageId": "html"
    }
   },
   "outputs": [],
   "source": [
    "<!DOCTYPE html>\n",
    "<html>\n",
    "<head>\n",
    "    <title>Lista de usuarios</title>\n",
    "</head>\n",
    "<body>\n",
    "    <h1>Lista de usuarios</h1>\n",
    "    <table>\n",
    "        <tr>\n",
    "            <th>ID</th>\n",
    "            <th>Nombre</th>\n",
    "            <th>Correo electrónico</th>\n",
    "        </tr>\n",
    "        {% for usuario in usuarios %}\n",
    "        <tr>\n",
    "            <td>{{ usuario.id }}</td>\n",
    "            <td>{{ usuario.nombre }}</td>\n",
    "            <td>{{ usuario.correo_electronico }}</td>\n",
    "        </tr>\n",
    "        {% endfor %}\n",
    "    </table>\n",
    "    <br>\n",
    "    <h2>Agregar nuevo usuario</h2>\n",
    "    <form method=\"POST\" action=\"/agregar\">\n",
    "        <label for=\"nombre\">Nombre:</label>\n",
    "        <input type=\"text\" id=\"nombre\" name=\"nombre\" required><br><br>\n",
    "        <label for=\"correo_electronico\">Correo electrónico:</label>\n",
    "        <input type=\"email\" id=\"correo_electronico\" name=\"correo_electronico\" required><br><br>\n",
    "        <button type=\"submit\">Agregar</button>\n",
    "    </form>\n",
    "</body>\n",
    "</html>"
   ]
  },
  {
   "attachments": {},
   "cell_type": "markdown",
   "metadata": {},
   "source": [
    "Instalamos la extensión 'flask_sqlalchemy':"
   ]
  },
  {
   "cell_type": "code",
   "execution_count": null,
   "metadata": {},
   "outputs": [],
   "source": [
    "%pip install flask_sqlalchemy"
   ]
  },
  {
   "cell_type": "code",
   "execution_count": null,
   "metadata": {},
   "outputs": [],
   "source": [
    "from flask import Flask, render_template, request # Importamos Flask, render_template y request.\n",
    "from flask_sqlalchemy import SQLAlchemy # Importamos SQLAlchemy\n",
    "\n",
    "app = Flask(__name__) # Construimos la app.\n",
    "app.config[\"SQLALCHEMY_DATABASE_URI\"] = \"sqlite:///usuarios.db\" # Configuramos la URI (Uniform Resource Identifier) de la base de datos SQLite en la variable SQLALCHEMY_DATABASE_URI.\n",
    "db = SQLAlchemy(app)\n",
    "\n",
    "class Usuario(db.Model): #define una clase Usuario que hereda de la clase db.Model de SQLAlchemy. Esta clase define la estructura de la tabla de la base de datos.\n",
    "    id = db.Column(db.Integer, primary_key=True) # Una columna 'id' como clave primaria.\n",
    "    nombre = db.Column(db.String(50), nullable=False) # Una columna 'nombre'.\n",
    "    correo_electronico = db.Column(db.String(50), nullable=False) # Una columna 'correo_electronico'.\n",
    "\n",
    "@app.route(\"/\") # Creamos la ruta.\n",
    "def index(): # Consultamos todos los registros de la tabla Usuario y los pasa a la plantilla HTML \"usuarios.html\" para que se muestren en la página web.\n",
    "    usuarios = Usuario.query.all()\n",
    "    return render_template(\"usuarios.html\", usuarios=usuarios)\n",
    "\n",
    "@app.route(\"/agregar\", methods=[\"POST\"]) # En esta ruta, mediante la petición 'POST' recuperamos los datos enviados por el formulario usuarios.html.\n",
    "def agregar(): # Crea un nuevo objeto Usuario con esos datos y lo agrega a la base de datos mediante db.session.add() y db.session.commit().\n",
    "    nombre = request.form.get(\"nombre\")\n",
    "    correo_electronico = request.form.get(\"correo_electronico\")\n",
    "    usuario = Usuario(nombre=nombre, correo_electronico=correo_electronico)\n",
    "    db.session.add(usuario)\n",
    "    db.session.commit()\n",
    "    return \"Usuario agregado\"\n",
    "\n",
    "if __name__ == \"__main__\":\n",
    "    with app.app_context(): # Esto establecerá el contexto de la aplicación y nos permitirá llamar a db.create_all() correctamente.\n",
    "        db.create_all()\n",
    "        app.run(debug=True)\n",
    "\n",
    "'''\n",
    "Por último, especificamos que si se ejecuta este archivo de Python directamente, se creará la tabla Usuario en la base de datos utilizando db.create_all(). \n",
    "También se ejecutará la aplicación Flask utilizando app.run(), con el modo debug habilitado para que se muestren mensajes de depuración en la consola.\n",
    "\n",
    "'''"
   ]
  },
  {
   "attachments": {},
   "cell_type": "markdown",
   "metadata": {},
   "source": [
    "<img src=\"./img/Introducción_Datos.png\" alt=\"Database1\" width=\"500\"/>\n",
    "\n",
    "<img src=\"./img/Usuario_Agregado.png\" alt=\"Agregado\" width=\"600\"/>\n",
    "\n",
    "<img src=\"./img/Base_Actualizada.png\" alt=\"Database2\" width=\"400\"/>"
   ]
  },
  {
   "attachments": {},
   "cell_type": "markdown",
   "metadata": {},
   "source": [
    "## Autenticación de usuarios\n",
    "\n",
    "La autenticación de usuarios es una característica importante en muchas aplicaciones web. Flask incluye varias extensiones que nos permiten agregar autenticación de usuarios a la aplicación web.\n",
    "\n",
    "Una de las extensiones más populares para la autenticación de usuarios es Flask-Login. Esta extensión nos permite manejar la autenticación de usuarios, el registro de usuarios y la gestión de sesiones de usuario.\n",
    "\n",
    "En el siguiente ejemplo, vamos a agregar autenticación de usuarios a nuestra aplicación web utilizando Flask-Login. Crearemos una tabla llamada usuarios en nuestra base de datos SQLite que contiene los nombres de usuario y las contraseñas de los usuarios."
   ]
  },
  {
   "attachments": {},
   "cell_type": "markdown",
   "metadata": {},
   "source": [
    "Instalamos la extensión 'flask_login':"
   ]
  },
  {
   "cell_type": "code",
   "execution_count": null,
   "metadata": {},
   "outputs": [],
   "source": [
    "%pip install flask_login"
   ]
  },
  {
   "attachments": {},
   "cell_type": "markdown",
   "metadata": {},
   "source": [
    "Creamos una plantilla index.html y la guardamos en la carpeta templates:\n",
    "\n",
    "- En esta plantilla se muestra un mensaje de bienvenida y un enlace para iniciar sesión o cerrar sesión, dependiendo del estado de autenticación del usuario. Si el usuario está autenticado, se muestra su nombre de usuario."
   ]
  },
  {
   "cell_type": "code",
   "execution_count": null,
   "metadata": {
    "vscode": {
     "languageId": "html"
    }
   },
   "outputs": [],
   "source": [
    "<!DOCTYPE html>\n",
    "<html>\n",
    "<head>\n",
    "    <title>Inicio</title>\n",
    "</head>\n",
    "<body>\n",
    "    {% if current_user.is_authenticated %}\n",
    "    <h1>Bienvenido, {{ current_user.nombre_usuario }}!</h1>\n",
    "    <p><a href=\"{{ url_for('logout') }}\">Cerrar sesión</a></p>\n",
    "    {% else %}\n",
    "    <h1>Bienvenido!</h1>\n",
    "    <p><a href=\"{{ url_for('login') }}\">Iniciar sesión</a></p>\n",
    "    {% endif %}\n",
    "</body>\n",
    "</html>"
   ]
  },
  {
   "attachments": {},
   "cell_type": "markdown",
   "metadata": {},
   "source": [
    "Creamos una plantilla login.html y la guardamos en la carpeta templates:"
   ]
  },
  {
   "cell_type": "code",
   "execution_count": null,
   "metadata": {
    "vscode": {
     "languageId": "html"
    }
   },
   "outputs": [],
   "source": [
    "<!DOCTYPE html>\n",
    "<html>\n",
    "<head>\n",
    "    <title>Iniciar sesión</title>\n",
    "</head>\n",
    "<body>\n",
    "    <h1>Iniciar sesión</h1>\n",
    "    <form method=\"POST\">\n",
    "        <label for=\"nombre_usuario\">Nombre de usuario:</label>\n",
    "        <input type=\"text\" id=\"nombre_usuario\" name=\"nombre_usuario\" required><br><br>\n",
    "        <label for=\"contrasena\">Contraseña:</label>\n",
    "        <input type=\"password\" id=\"contrasena\" name=\"contrasena\" required><br><br>\n",
    "        <button type=\"submit\">Iniciar sesión</button>\n",
    "    </form>\n",
    "</body>\n",
    "</html>"
   ]
  },
  {
   "cell_type": "code",
   "execution_count": null,
   "metadata": {},
   "outputs": [],
   "source": [
    "from flask import Flask, render_template, request, redirect, url_for # Importamos Flask, render_template, request, redirect y url_for.\n",
    "from flask_sqlalchemy import SQLAlchemy # Importamos SQLAlchemy.\n",
    "from flask_login import LoginManager, UserMixin, login_user, logout_user, login_required # Importamos varias clases de flask_login.\n",
    "\n",
    "app = Flask(__name__) # Construimos la app.\n",
    "app.config[\"SQLALCHEMY_DATABASE_URI\"] = \"sqlite:///usuarios.db\" # Configuramos la URI (Uniform Resource Identifier) de la base de datos SQLite en la variable SQLALCHEMY_DATABASE_URI.\n",
    "app.config[\"SECRET_KEY\"] = \"clave-secreta\" # Configuramos una clave secreta para nuestra aplicación, necesaria para manejar sesiones de usuario.\n",
    "db = SQLAlchemy(app) # Configuramos una clave secreta para nuestra aplicación, necesaria para manejar sesiones de usuario.\n",
    "login_manager = LoginManager(app) # Creamos una instancia del manejador de autenticación de Flask-Login.\n",
    "\n",
    "class Usuario(UserMixin, db.Model): # Define una clase Usuario que hereda de UserMixinpara tener métodos y atributos para manejar la autenticación con Flask-Login y de db.Model para definirse como tabla de la database.\n",
    "    id = db.Column(db.Integer, primary_key=True) # Una columna 'id' como clave primaria.\n",
    "    nombre_usuario = db.Column(db.String(50), unique=True, nullable=False) # Una columna 'nombre_usuario'.\n",
    "    contrasena = db.Column(db.String(50), nullable=False) # Una columna 'contraseña'.\n",
    "\n",
    "@login_manager.user_loader # Función que recibe un ID de usuario y devuelve el objeto Usuario correspondiente, necesario para que Flask-Login maneje la autenticación de usuarios.\n",
    "def load_user(user_id):  # Función que recibe un ID de usuario y devuelve el objeto Usuario correspondiente, necesario para que Flask-Login maneje la autenticación de usuarios.\n",
    "    return Usuario.query.get(int(user_id))\n",
    "\n",
    "@app.route(\"/\") # Creamos la ruta.\n",
    "def index(): # Aqui se ejecutará la plantilla index.html.\n",
    "    return render_template(\"index.html\")\n",
    "\n",
    "@app.route(\"/login\", methods=[\"GET\", \"POST\"]) # Creamos la ruta para la página de inicio de sesión que acepta solicitudes GET y POST.\n",
    "def login(): # Función que manejará la solicitud para la ruta de inicio de sesión.\n",
    "    if request.method == \"POST\": # Verificamos si la solicitud es de tipo POST (es decir, si se envió un formulario).\n",
    "        nombre_usuario = request.form.get(\"nombre_usuario\") # Obtenemos el valor del campo \"nombre_usuario\" del formulario enviado.\n",
    "        contrasena = request.form.get(\"contrasena\") # Obtenemos el valor del campo \"contrasena\" del formulario enviado.\n",
    "        usuario = Usuario.query.filter_by(nombre_usuario=nombre_usuario).first() # Busca en la base de datos el usuario que tenga el mismo nombre de usuario ingresado en el formulario.\n",
    "        if usuario is not None and usuario.contrasena == contrasena:\n",
    "            login_user(usuario) # Si el usuario existe y la contraseña ingresada coincide con la que está almacenada en la base de datos, el usuario se inicia sesión utilizando la función login_user de Flask-Login.\n",
    "            return redirect(url_for(\"index\")) # Se redirige al usuario a la página de inicio después de iniciar sesión exitosamente utilizando la función redirect de Flask.\n",
    "    return render_template(\"login.html\") # Se accede a la página de inicio de sesión por primera vez o si la información ingresada no es correcta, se renderiza la plantilla login.html.\n",
    "\n",
    "@app.route(\"/logout\") # Creamos la ruta que será ejecutada cuando el usuario acceda a la ruta \"/logout\" de la aplicación.\n",
    "@login_required # Verifica si el usuario está autenticado antes de ejecutar la función logout(). Si el usuario no está autenticado, se redirige a la página de inicio de sesión.\n",
    "def logout(): \n",
    "    logout_user() # Función proporcionada por Flask-Login y se encarga de cerrar la sesión del usuario actual.\n",
    "    return redirect(url_for(\"index\")) # Después de cerrar la sesión del usuario, se redirige a la página de inicio de la aplicación.\n",
    "\n",
    "if __name__ == \"__main__\":\n",
    "    with app.app_context(): # Esto establecerá el contexto de la aplicación y nos permitirá llamar a db.create_all() correctamente.\n",
    "        db.drop_all() # Elimina todas las tablas existentes.\n",
    "        db.create_all() # Crea nuevas tablas utilizando los modelos definidos.\n",
    "         # Crear un nuevo usuario\n",
    "        nuevo_usuario = Usuario(nombre_usuario='Elba Surero', contrasena='Basurero') # Estas serán las credenciales.\n",
    "        db.session.add(nuevo_usuario)\n",
    "        db.session.commit()\n",
    "    app.run(debug=True) # Inicia la aplicación en modo de depuración."
   ]
  },
  {
   "attachments": {},
   "cell_type": "markdown",
   "metadata": {},
   "source": [
    "<img src=\"./img/Autenticación1.png\" alt=\"Autenticación1\" width=\"400\"/>\n",
    "\n",
    "<img src=\"./img/Autenticación Erronea.png\" alt=\"AutenticaciónError\" width=\"500\"/>\n",
    "\n",
    "<img src=\"./img/Autenticación_Correcta.png\" alt=\"AutenticaciónBien\" width=\"500\"/>\n",
    "\n",
    "<img src=\"./img/Autenticación2.png\" alt=\"Autenticación2\" width=\"400\"/>"
   ]
  },
  {
   "attachments": {},
   "cell_type": "markdown",
   "metadata": {},
   "source": [
    "## Blueprints\n",
    "\n",
    "Los blueprints son una forma de organizar una aplicación Flask en módulos reutilizables y modulares. Podemos pensar en ellos como subaplicaciones que se pueden conectar a la aplicación principal. Los blueprints se utilizan comúnmente para separar diferentes partes de una aplicación web en módulos independientes que se pueden desarrollar y mantener por separado.\n",
    "\n",
    "Para crear un blueprint en Flask, primero necesitamos crear un objeto Blueprint. Luego, podemos definir las rutas y funciones de vistas dentro del blueprint y registrar el blueprint con la aplicación principal."
   ]
  },
  {
   "cell_type": "code",
   "execution_count": null,
   "metadata": {},
   "outputs": [],
   "source": [
    "from flask import Blueprint # Importamos la clase Blueprint de flask.\n",
    "\n",
    "auth_bp = Blueprint('auth', __name__) # Constructor para crear un objeto Blueprint (Conjunto de rutas y vistas que se pueden registrar con una aplicación Flask).\n",
    "\n",
    "@auth_bp.route('/login') # Creamos una ruta \"/login\"\n",
    "def login(): # Función que devuelve el string \"Página de inicio de sesión\".\n",
    "    return 'Página de inicio de sesión'\n",
    "\n",
    "@auth_bp.route('/register') # Creamos una ruta \"/register\".\n",
    "def register(): # Función que devuelve el string \"Página de registro\".\n",
    "    return 'Página de registro'\n",
    "\n",
    "app = Flask(__name__) # Creamos la instancia de Flask.\n",
    "app.register_blueprint(auth_bp, url_prefix='/auth') # Registramos el objeto Blueprint en la aplicación Flask.ipynb\n",
    "\n",
    "# Con el argumento \"url_prefix='/auth'\", se establece un prefijo de URL para todas las rutas registradas en el objeto Blueprint."
   ]
  },
  {
   "attachments": {},
   "cell_type": "markdown",
   "metadata": {},
   "source": [
    "## Middlewares\n",
    "\n",
    "Los middlewares en Flask son funciones que se ejecutan antes o después de una solicitud entrante en tu aplicación. Estos middlewares pueden realizar una variedad de tareas, como la autenticación de usuarios, el manejo de errores, la gestión de cookies y más.\n",
    "\n",
    "Para crear un middleware en Flask, definimos una función que acepte un objeto request y un objeto response como argumentos. Luego, registraremos esa función como un middleware utilizando el decorador before_request o after_request."
   ]
  },
  {
   "cell_type": "code",
   "execution_count": null,
   "metadata": {},
   "outputs": [],
   "source": [
    "from flask import Flask, request # # Importamos Flask y request.\n",
    "\n",
    "app = Flask(__name__) # # Construimos la app.\n",
    "\n",
    "@app.before_request # Decorador que registra la funcion before() para ser llamada antes de cada solicitud.\n",
    "def before(): # Función que imprime \"Antes de la solicitud\" y los encabezados de la solicitud.\n",
    "    print('Antes de la solicitud')\n",
    "    print(request.headers)\n",
    "\n",
    "@app.after_request # Decorador que registra la funcion after() para ser llamada después de cada solicitud.\n",
    "def after(response): # Función que imprime \"Después de la solicitud\" y devuelve la respuesta que se le pasa como parámetro.\n",
    "    print('Después de la solicitud')\n",
    "    return response\n",
    "\n",
    "@app.route('/') # Creamos la ruta que registra la función index() para manejar las solicitudes GET.\n",
    "def index():\n",
    "    return 'Hola, mundo!'\n",
    "\n",
    "if __name__ == '__main__':\n",
    "    app.run(debug=True) # Inicia la aplicación en modo de depuración."
   ]
  },
  {
   "attachments": {},
   "cell_type": "markdown",
   "metadata": {},
   "source": [
    "<img src=\"./img/Middleware.png\" alt=\"MiddlewareHolaMundo\" width=\"500\"/>\n",
    "\n",
    "<img src=\"./img/Consola_Middleware.png\" alt=\"Middleware Consola\" width=\"1000\"/>"
   ]
  },
  {
   "attachments": {},
   "cell_type": "markdown",
   "metadata": {},
   "source": [
    "## En resumen:\n",
    "\n",
    "Flask es un marco de aplicaciones web ligero y flexible que te permite crear aplicaciones web con Python de manera fácil y eficiente. En este notebook, hemos cubierto algunos de los conceptos básicos de Flask, como el enrutamiento, las plantillas, el manejo de formularios, la base de datos SQLite y la autenticación de usuarios.\n",
    "\n",
    "Hay muchas otras características útiles en Flask, como la integración con otras bibliotecas y marcos, la configuración de la aplicación, la implementación de APIs RESTful, el manejo de errores, la internacionalización y más.\n",
    "\n",
    "A medida que vayamos avanzando en el desarrollo de aplicaciones web con Flask, es posible que también podamos considerar la utilización de extensiones y complementos para agregar funcionalidad adicional a la aplicación.\n",
    "\n",
    "Algunas de las extensiones más populares de Flask incluyen (a parte de las ya vistas aquí, Flask-Sqlalchemy y Flask-Login):\n",
    "\n",
    "- Flask-WTF: una extensión que te permite manejar formularios de manera fácil y segura.\n",
    "- Flask-Mail: una extensión que te permite enviar correos electrónicos desde tu aplicación Flask.\n",
    "- Flask-RESTful: una extensión que te permite crear APIs RESTful en tu aplicación Flask.\n",
    "- Flask-SocketIO: una extensión que te permite agregar comunicación en tiempo real a tu aplicación Flask utilizando WebSocket."
   ]
  },
  {
   "attachments": {},
   "cell_type": "markdown",
   "metadata": {},
   "source": [
    "## Nota:\n",
    "\n",
    "Cuanto más conocimiento de HTML, mejores templates podremos hacer. :)"
   ]
  }
 ],
 "metadata": {
  "kernelspec": {
   "display_name": "Python 3",
   "language": "python",
   "name": "python3"
  },
  "language_info": {
   "codemirror_mode": {
    "name": "ipython",
    "version": 3
   },
   "file_extension": ".py",
   "mimetype": "text/x-python",
   "name": "python",
   "nbconvert_exporter": "python",
   "pygments_lexer": "ipython3",
   "version": "3.7.4"
  },
  "orig_nbformat": 4
 },
 "nbformat": 4,
 "nbformat_minor": 2
}
