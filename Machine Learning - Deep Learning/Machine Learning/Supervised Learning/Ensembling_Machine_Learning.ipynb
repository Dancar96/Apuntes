{
 "cells": [
  {
   "attachments": {},
   "cell_type": "markdown",
   "metadata": {},
   "source": [
    "# 🦾 **Ensembling Machines** 🦾"
   ]
  },
  {
   "attachments": {},
   "cell_type": "markdown",
   "metadata": {},
   "source": [
    "# ¿Qué es el Ensemble? 🤔"
   ]
  },
  {
   "attachments": {},
   "cell_type": "markdown",
   "metadata": {},
   "source": [
    "El ensemble, o aprendizaje ensamblador, es una técnica de machine learning que combina varios modelos individuales para crear un modelo más robusto y preciso.\n",
    "\n",
    "## ¿Por qué usar el aprendizaje ensamblador? 🗜️\n",
    "El aprendizaje ensamblador puede mejorar la precisión del modelo y reducir el riesgo de sobreajuste. También puede manejar mejor datos no equilibrados y datos con ruido.\n",
    "\n",
    "### ¿Cuáles son las técnicas de aprendizaje ensamblador más comunes?\n",
    "- Voting\n",
    "- Bagging (Bootstrap Aggregating)\n",
    "- Boosting\n",
    "\n",
    "### ¿Cómo funciona el voting? 🗳️\n",
    "El voting combina las predicciones de múltiples modelos individuales para producir una predicción final. Los modelos individuales tienen que ser de diferentes tipos.\n",
    "\n",
    "### ¿Cómo funciona el bagging? ⛓️\n",
    "El bagging crea múltiples muestras de entrenamiento mediante el muestreo aleatorio con reemplazo de los datos originales y entrena un modelo individual en cada muestra. Luego, los resultados de los modelos individuales se combinan para producir una predicción final.\n",
    "\n",
    "### ¿Cómo funciona el boosting? 🔗\n",
    "El boosting entrena modelos individuales secuencialmente en un conjunto de datos ponderados, donde se dan más peso a las observaciones incorrectamente clasificadas. Los modelos posteriores se enfocan en las observaciones que fueron mal clasificadas por los modelos anteriores.\n",
    "\n",
    "### ¿Cómo se evalúa el rendimiento del modelo de aprendizaje ensamblador?\n",
    "El rendimiento del modelo de aprendizaje ensamblador se puede evaluar utilizando medidas de evaluación comunes, como la precisión, el recall, el F1-score y la curva ROC.\n",
    "\n",
    "### ¿Cuáles son los desafíos del aprendizaje ensamblador?\n",
    "Los desafíos del aprendizaje ensamblador incluyen la selección de modelos individuales adecuados, la selección de la técnica de ensamblaje adecuada y la combinación de los modelos individuales de manera efectiva. También puede haber problemas de complejidad y tiempo de entrenamiento.\n",
    "\n",
    "### ¿Cuándo se debe utilizar el aprendizaje ensamblador?\n",
    "El aprendizaje ensamblador puede ser útil cuando se necesita mejorar la precisión del modelo y reducir el riesgo de sobreajuste. También puede ser útil cuando se tienen datos no equilibrados o datos con ruido. Sin embargo, es importante tener en cuenta los desafíos mencionados anteriormente y evaluar si el aprendizaje ensamblador es la técnica adecuada para su conjunto de datos y problema en particular."
   ]
  },
  {
   "attachments": {},
   "cell_type": "markdown",
   "metadata": {},
   "source": [
    "## Voting Classifiers"
   ]
  }
 ],
 "metadata": {
  "language_info": {
   "name": "python"
  },
  "orig_nbformat": 4
 },
 "nbformat": 4,
 "nbformat_minor": 2
}
