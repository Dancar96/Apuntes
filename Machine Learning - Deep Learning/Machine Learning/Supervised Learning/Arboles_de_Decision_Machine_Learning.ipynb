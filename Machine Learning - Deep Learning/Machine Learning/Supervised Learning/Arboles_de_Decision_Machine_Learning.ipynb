{
 "cells": [
  {
   "attachments": {},
   "cell_type": "markdown",
   "metadata": {},
   "source": [
    "# 🦾🌲 **Árboles de Decisión en Machine Learning** 🌲🦾"
   ]
  },
  {
   "attachments": {},
   "cell_type": "markdown",
   "metadata": {},
   "source": [
    "Los Árboles de Decisión son un tipo de modelo de aprendizaje automático que se utilizan tanto para resolver problemas de clasificación como de regresión. Estos modelos se basan en la idea de tomar decisiones basadas en características, como se haría en un proceso de toma de decisiones humano.\n",
    "\n",
    "\n",
    "Un Árbol de Decisión se compone de nodos y hojas.\n",
    "\n",
    "    a) ¿Que es un nodo?: Cada nodo representa una decisión basada en una característica.\n",
    "    b) ¿Quue es una hoja?: Cada hoja representa una clase o un valor predictivo. \n",
    "\n",
    "El proceso de crear un Árbol de Decisión consiste en elegir las características más relevantes y utilizarlas para dividir el conjunto de datos en subconjuntos más pequeños. Este proceso se repite hasta que se cumpla una condición de detención, como el número máximo de niveles o el tamaño mínimo de un subconjunto.\n",
    "\n",
    "\n",
    "Los Árboles de Decisión son fáciles de entender y visualizar, lo que los hace muy útiles para el análisis exploratorio de datos. Sin embargo, también pueden ser propensos a sobreajustarse a los datos de entrenamiento si no se limita su crecimiento adecuadamente. Por lo tanto, es importante utilizar técnicas de poda y validación cruzada para evitar este problema.\n",
    "\n",
    "\n",
    "Tenemos dos tipos de árboles de decisión:\n",
    "\n",
    "- Árboles de Clasificación.\n",
    "- Árboles de Regresión."
   ]
  },
  {
   "attachments": {},
   "cell_type": "markdown",
   "metadata": {},
   "source": [
    "## 🥇 **Árboles de Clasificación** 🥇"
   ]
  },
  {
   "attachments": {},
   "cell_type": "markdown",
   "metadata": {},
   "source": [
    "1) ¿Qué es un Árbol de Clasificación?\n",
    "\n",
    "        Es un modelo de aprendizaje automático que se utiliza para resolver problemas de clasificación. Cada nodo representa una decisión y cada hoja representa una clase.\n",
    "\n",
    "2) ¿Cómo funciona?\n",
    "\n",
    "        Se empieza desde la raíz y se toma una decisión en cada nodo basada en una característica. Se sigue el camino hasta llegar a una hoja y la clase en la hoja se asigna como la clase de la instancia.\n",
    "\n",
    "3) ¿Cómo se crea un Árbol de Clasificación?\n",
    "\n",
    "        Se eligen las características más relevantes y se utilizan para dividir el conjunto de datos en subconjuntos más pequeños. Se repite este proceso hasta que se cumpla una condición de detención, como el número máximo de niveles o el tamaño mínimo de un subconjunto.\n",
    "\n",
    "4) ¿Cuáles son las métricas utilizadas para evaluar un Árbol de Clasificación?\n",
    "\n",
    "        Exactitud: porcentaje de instancias clasificadas correctamente.\n",
    "        \n",
    "        Matriz de Confusión: muestra el número de falsos positivos, falsos negativos, verdaderos positivos y verdaderos negativos.\n",
    "\n",
    "        Curva ROC: muestra la relación entre la tasa de verdaderos positivos y la tasa de falsos positivos."
   ]
  },
  {
   "attachments": {},
   "cell_type": "markdown",
   "metadata": {},
   "source": [
    "Vamos a hacer un modelo simple de un árbol de clasificación."
   ]
  },
  {
   "attachments": {},
   "cell_type": "markdown",
   "metadata": {},
   "source": [
    "Importamos las bibliotecas necesarias:"
   ]
  },
  {
   "cell_type": "code",
   "execution_count": 1,
   "metadata": {},
   "outputs": [],
   "source": [
    "import pandas as pd\n",
    "from sklearn.tree import DecisionTreeClassifier\n",
    "from sklearn.model_selection import train_test_split\n",
    "from sklearn.metrics import accuracy_score\n",
    "from sklearn.tree import plot_tree\n",
    "import matplotlib.pyplot as plt"
   ]
  },
  {
   "attachments": {},
   "cell_type": "markdown",
   "metadata": {},
   "source": [
    "Cargamos los datos en un DataFrame:"
   ]
  },
  {
   "cell_type": "code",
   "execution_count": null,
   "metadata": {},
   "outputs": [],
   "source": [
    "data = pd.read_csv(\"archivo.csv\")"
   ]
  },
  {
   "attachments": {},
   "cell_type": "markdown",
   "metadata": {},
   "source": [
    "Dividimos los datos en características y etiquetas:"
   ]
  },
  {
   "cell_type": "code",
   "execution_count": null,
   "metadata": {},
   "outputs": [],
   "source": [
    "X = data.iloc[:, :-1]\n",
    "y = data.iloc[:, -1]"
   ]
  },
  {
   "attachments": {},
   "cell_type": "markdown",
   "metadata": {},
   "source": [
    "Dividimos los datos en conjuntos de train y test:"
   ]
  },
  {
   "cell_type": "code",
   "execution_count": null,
   "metadata": {},
   "outputs": [],
   "source": [
    "X_train, X_test, y_train, y_test = train_test_split(X, y, test_size=0.2)"
   ]
  },
  {
   "attachments": {},
   "cell_type": "markdown",
   "metadata": {},
   "source": [
    "Creamos un objeto de Árbol de Clasificación (Con max_depth \"podamos\" el árbol para que tenga una profundidad máxima de 3 [2 o 3 es lo normal]):"
   ]
  },
  {
   "cell_type": "code",
   "execution_count": null,
   "metadata": {},
   "outputs": [],
   "source": [
    "clf = DecisionTreeClassifier(max_depth=3)"
   ]
  },
  {
   "attachments": {},
   "cell_type": "markdown",
   "metadata": {},
   "source": [
    "Entrenamos el modelo con los datos de X_train e y_train:"
   ]
  },
  {
   "cell_type": "code",
   "execution_count": null,
   "metadata": {},
   "outputs": [],
   "source": [
    "clf.fit(X_train, y_train)"
   ]
  },
  {
   "attachments": {},
   "cell_type": "markdown",
   "metadata": {},
   "source": [
    "Hacemos la predicción con X_train:"
   ]
  },
  {
   "cell_type": "code",
   "execution_count": null,
   "metadata": {},
   "outputs": [],
   "source": [
    "y_pred = clf.predict(X_test)"
   ]
  },
  {
   "attachments": {},
   "cell_type": "markdown",
   "metadata": {},
   "source": [
    "Calculamos la exactitud del modelo (utlizaremos el accuracy, pero es la peor, se pueden utilizar otras) y la saco por pantalla:"
   ]
  },
  {
   "cell_type": "code",
   "execution_count": null,
   "metadata": {},
   "outputs": [],
   "source": [
    "acc = accuracy_score(y_test, y_pred)\n",
    "print(\"Exactitud: \", acc)"
   ]
  },
  {
   "attachments": {},
   "cell_type": "markdown",
   "metadata": {},
   "source": [
    "Visualizamos el Árbol de Clasificación con un plot:\n",
    "\n",
    "    Determinamos el tamaño de la figura con el figsize.\n",
    "    Sacamos el arbol con el plot_tree indicando el modelo: 'clf', 'filled=True' para los colores de los nodos y 'fontsize' para etiquetar los nodos."
   ]
  },
  {
   "cell_type": "code",
   "execution_count": null,
   "metadata": {},
   "outputs": [],
   "source": [
    "plt.figure(figsize=(20,10))\n",
    "plot_tree(clf, filled=True, fontsize=10);"
   ]
  },
  {
   "attachments": {},
   "cell_type": "markdown",
   "metadata": {},
   "source": [
    "En resumen, la creación de un modelo de Árbol de Clasificación implica la selección de características relevantes, la división del conjunto de datos en subconjuntos, la asignación de clases a las hojas y la evaluación del modelo. Cada paso es importante para garantizar un rendimiento preciso y efectivo del modelo. Además, es importante tener en cuenta la posibilidad de overfitting y utilizar técnicas de poda y validación cruzada para prevenirlo."
   ]
  },
  {
   "attachments": {},
   "cell_type": "markdown",
   "metadata": {},
   "source": [
    "## 📈 **Árboles de Regresión** 📈"
   ]
  },
  {
   "attachments": {},
   "cell_type": "markdown",
   "metadata": {},
   "source": [
    "1) ¿Qué es un Árbol de Regresión?\n",
    "\n",
    "        Es un modelo de aprendizaje automático que se utiliza para resolver problemas de regresión. Cada hoja representa un valor predictivo.\n",
    "\n",
    "2) ¿Cómo funciona?\n",
    "\n",
    "        Se empieza desde la raíz y se toma una decisión en cada nodo basada en una característica. Se sigue el camino hasta llegar a una hoja y el valor en la hoja se asigna como la predicción para la instancia.\n",
    "\n",
    "3) ¿Cómo se crea un Árbol de Regresión?\n",
    "\n",
    "        Se eligen las características más relevantes y se utilizan para dividir el conjunto de datos en subconjuntos más pequeños. Se repite este proceso hasta que se cumpla una condición de detención, como el número máximo de niveles o el tamaño mínimo de un subconjunto. Para cada subconjunto, se calcula el valor predictivo medio y se asigna a la hoja correspondiente.\n",
    "\n",
    "4) ¿Cuáles son las métricas utilizadas para evaluar un Árbol de Regresión?\n",
    "\n",
    "        Error cuadrático medio (MSE, por sus siglas en inglés): Es la media de los cuadrados de las diferencias entre los valores reales y los valores predecidos. Un MSE bajo indica un buen ajuste del modelo.\n",
    "\n",
    "        Raíz del error cuadrático medio (RMSE, por sus siglas en inglés): Es la raíz cuadrada del MSE. Al igual que el MSE, un RMSE bajo indica un buen ajuste del modelo.\n",
    "\n",
    "        Coeficiente de determinación (R^2): Es una medida de cuán bien se ajusta el modelo a los datos. Un valor de R^2 cercano a 1 indica un ajuste excelente, mientras que un valor cercano a 0 indica un ajuste pobre.\n",
    "\n",
    "        Error absoluto medio (MAE, por sus siglas en inglés): Es la media de las diferencias absolutas entre los valores reales y los valores predecidos. Al igual que el MSE y el RMSE, un MAE bajo indica un buen ajuste del modelo."
   ]
  },
  {
   "attachments": {},
   "cell_type": "markdown",
   "metadata": {},
   "source": [
    "Vamos a hacer un modelo simple de un árbol de regresión (Este le haremos con poda y haremos tambien un GridSearchCV para optimizar):"
   ]
  },
  {
   "attachments": {},
   "cell_type": "markdown",
   "metadata": {},
   "source": [
    "Importamos las bibliotecas necesarias:"
   ]
  },
  {
   "cell_type": "code",
   "execution_count": null,
   "metadata": {},
   "outputs": [],
   "source": [
    "import pandas as pd\n",
    "from sklearn.tree import DecisionTreeRegressor\n",
    "from sklearn.model_selection import train_test_split, GridSearchCV\n",
    "from sklearn.metrics import mean_squared_error\n",
    "from sklearn.tree import plot_tree"
   ]
  },
  {
   "attachments": {},
   "cell_type": "markdown",
   "metadata": {},
   "source": [
    "Cargamos los datos en un DataFrame:"
   ]
  },
  {
   "cell_type": "code",
   "execution_count": null,
   "metadata": {},
   "outputs": [],
   "source": [
    "data = pd.read_csv(\"archivo.csv\")"
   ]
  },
  {
   "attachments": {},
   "cell_type": "markdown",
   "metadata": {},
   "source": [
    "Dividimos los datos en características y etiquetas:"
   ]
  },
  {
   "cell_type": "code",
   "execution_count": null,
   "metadata": {},
   "outputs": [],
   "source": [
    "X = data.iloc[:, :-1]\n",
    "y = data.iloc[:, -1]"
   ]
  },
  {
   "attachments": {},
   "cell_type": "markdown",
   "metadata": {},
   "source": [
    "Dividir los datos en conjuntos de train y test:"
   ]
  },
  {
   "cell_type": "code",
   "execution_count": null,
   "metadata": {},
   "outputs": [],
   "source": [
    "X_train, X_test, y_train, y_test = train_test_split(X, y, test_size=0.2)"
   ]
  },
  {
   "attachments": {},
   "cell_type": "markdown",
   "metadata": {},
   "source": [
    "Creamos un objeto de Árbol de Regresión:"
   ]
  },
  {
   "cell_type": "code",
   "execution_count": null,
   "metadata": {},
   "outputs": [],
   "source": [
    "regr = DecisionTreeRegressor()"
   ]
  },
  {
   "attachments": {},
   "cell_type": "markdown",
   "metadata": {},
   "source": [
    "Definimos los parámetros que probaremos en la búsqueda en malla para optimizar:"
   ]
  },
  {
   "cell_type": "code",
   "execution_count": null,
   "metadata": {},
   "outputs": [],
   "source": [
    "param_grid = {'max_depth': [2, 3, 4, 5, 6],\n",
    "              'min_samples_split': [2, 3, 4, 5]}"
   ]
  },
  {
   "attachments": {},
   "cell_type": "markdown",
   "metadata": {},
   "source": [
    "Creamos un objeto de GridSearchCV con el modelo, los parámetros definidos anteriormente y el número de K-folds con cv (serán 5):"
   ]
  },
  {
   "cell_type": "code",
   "execution_count": null,
   "metadata": {},
   "outputs": [],
   "source": [
    "grid_search = GridSearchCV(regr, param_grid, cv=5)"
   ]
  },
  {
   "attachments": {},
   "cell_type": "markdown",
   "metadata": {},
   "source": [
    "Entrenamos el modelo con los datos de X-train e y_train y realizamos la búsqueda en malla:"
   ]
  },
  {
   "cell_type": "code",
   "execution_count": null,
   "metadata": {},
   "outputs": [],
   "source": [
    "grid_search.fit(X_train, y_train)"
   ]
  },
  {
   "attachments": {},
   "cell_type": "markdown",
   "metadata": {},
   "source": [
    "Hacemos la prediccion con los datos de X-test:"
   ]
  },
  {
   "cell_type": "code",
   "execution_count": null,
   "metadata": {},
   "outputs": [],
   "source": [
    "y_pred = grid_search.predict(X_test)"
   ]
  },
  {
   "attachments": {},
   "cell_type": "markdown",
   "metadata": {},
   "source": [
    "Calculamos el error cuadrático medio (MSE) y lo sacamos por pantalla:"
   ]
  },
  {
   "cell_type": "code",
   "execution_count": null,
   "metadata": {},
   "outputs": [],
   "source": [
    "mse = mean_squared_error(y_test, y_pred)\n",
    "print(\"Error cuadrático medio: \", mse)"
   ]
  },
  {
   "attachments": {},
   "cell_type": "markdown",
   "metadata": {},
   "source": [
    "Sacamos por pantalla los mejores parámetros encontrados en la búsqueda en malla:"
   ]
  },
  {
   "cell_type": "code",
   "execution_count": null,
   "metadata": {},
   "outputs": [],
   "source": [
    "print(\"Mejores parámetros: \", grid_search.best_params_)"
   ]
  },
  {
   "attachments": {},
   "cell_type": "markdown",
   "metadata": {},
   "source": [
    "Obtenemos el mejor modelo de la búsqueda en malla:"
   ]
  },
  {
   "cell_type": "code",
   "execution_count": null,
   "metadata": {},
   "outputs": [],
   "source": [
    "best_regr = grid_search.best_estimator_"
   ]
  },
  {
   "attachments": {},
   "cell_type": "markdown",
   "metadata": {},
   "source": [
    "Visualizamos el Árbol de Regresión:\n",
    "\n",
    "    Sacamos el arbol con el plot_tree indicando el modelo (en este caso el que nos salga como mejor según el CV): 'best_regr', 'filled=True' para los colores de los nodos y 'fontsize' para etiquetar los nodos."
   ]
  },
  {
   "cell_type": "code",
   "execution_count": null,
   "metadata": {},
   "outputs": [],
   "source": [
    "plot_tree(best_regr, filled=True, fontsize=10)"
   ]
  },
  {
   "attachments": {},
   "cell_type": "markdown",
   "metadata": {},
   "source": [
    "En resumen, la creación de un Árbol de Regresión implica la selección de características relevantes, la división del conjunto de datos en subconjuntos y la asignación de un valor predictivo medio a cada hoja. La condición de detención se utiliza para controlar la complejidad del modelo y evitar el overfitting."
   ]
  }
 ],
 "metadata": {
  "kernelspec": {
   "display_name": "Python 3",
   "language": "python",
   "name": "python3"
  },
  "language_info": {
   "codemirror_mode": {
    "name": "ipython",
    "version": 3
   },
   "file_extension": ".py",
   "mimetype": "text/x-python",
   "name": "python",
   "nbconvert_exporter": "python",
   "pygments_lexer": "ipython3",
   "version": "3.7.4"
  },
  "orig_nbformat": 4
 },
 "nbformat": 4,
 "nbformat_minor": 2
}
